{
  "nbformat": 4,
  "nbformat_minor": 0,
  "metadata": {
    "colab": {
      "name": "30/08/20222.ipynb",
      "provenance": []
    },
    "kernelspec": {
      "name": "python3",
      "display_name": "Python 3"
    },
    "language_info": {
      "name": "python"
    }
  },
  "cells": [
    {
      "cell_type": "code",
      "execution_count": 2,
      "metadata": {
        "id": "pgbOZW48dSLT",
        "colab": {
          "base_uri": "https://localhost:8080/"
        },
        "outputId": "940905bc-3b35-42db-d42a-af9e41fb9365"
      },
      "outputs": [
        {
          "output_type": "stream",
          "name": "stdout",
          "text": [
            "3\n",
            "[2, 888, 4, 5]\n"
          ]
        }
      ],
      "source": [
        "fruits = [2,3,4,5]\n",
        "print(fruits[1])\n",
        "# by using index we can access elements of list\n",
        "fruits[1] = 888\n",
        "print(fruits)\n"
      ]
    },
    {
      "cell_type": "markdown",
      "source": [
        "Basic Calculator in python\n",
        "Using \n",
        "1) Conditional statements\n",
        "2) Loops\n",
        "3) Input statement\n",
        "Infact it cover most of the topics we discussed earlier.\n"
      ],
      "metadata": {
        "id": "vsHdVEtIfWq7"
      }
    },
    {
      "cell_type": "code",
      "source": [
        "while True:\n",
        "  print('''Welcome to Basic Calculator in Python.\n",
        "            press number of your choice to perform your desire operation.\n",
        "            1- Addition\n",
        "            2- Subtraction\n",
        "            3- Multiplication\n",
        "            4- Division\n",
        "            5- Exit''')\n",
        "  userchoice = int(input(\"Enter your Choice: \"))\n",
        "  if userchoice == 1:\n",
        "    print(\"**********Addition***********\")\n",
        "    num1=int(input(\"Enter number 1: \"))\n",
        "    num2=int(input(\"#nter number 2: \"))\n",
        "    result= num1 + num2\n",
        "    print(\"The result of addition between two numbers is \", result)\n",
        "  elif userchoice == 2:\n",
        "    print(\"**********Subtraction***********\")\n",
        "    num1= int(input(\"Enter number 1: \"))\n",
        "    num2= int(input(\"Enter number 2: \"))\n",
        "    result= num1-num2\n",
        "    print(\"The result of subtraction between two numbers is \", result)\n",
        "  elif userchoice == 3:\n",
        "    print(\"**********Multiplication***********\")\n",
        "    num1= int(input(\"Enter number 1: \"))\n",
        "    num2= int(input(\"Enter number 2: \"))\n",
        "    result= num1*num2\n",
        "    print(\"The result of multiplication between two numbers is \", result)\n",
        "  elif userchoice == 4:\n",
        "    print(\"**********Division***********\")\n",
        "    num1= int(input(\"Enter number 1: \"))\n",
        "    num2= int(input(\"Enter number 2: \"))\n",
        "    result= num1/num2\n",
        "    print(\"The result of division between two numbers is \", result)\n",
        "  elif userchoice == 5:\n",
        "    break\n",
        "  else:\n",
        "    print(\"Enter correct number\")\n",
        "    continue\n"
      ],
      "metadata": {
        "colab": {
          "base_uri": "https://localhost:8080/"
        },
        "id": "IQ3HNFycfdx6",
        "outputId": "fa599939-5d85-4bc3-e9b3-861e7dc72919"
      },
      "execution_count": 6,
      "outputs": [
        {
          "name": "stdout",
          "output_type": "stream",
          "text": [
            "Welcome to Basic Calculator in Python.\n",
            "            press number of your choice to perform your desire operation.\n",
            "            1- Addition\n",
            "            2- Subtraction\n",
            "            3- Multiplication\n",
            "            4- Division\n",
            "            5- Exit\n",
            "Enter your Choice: 2\n",
            "Enter number 1: 37\n",
            "Enter number 2: 7\n",
            "The result of subtraction between two numbers is  30\n",
            "Welcome to Basic Calculator in Python.\n",
            "            press number of your choice to perform your desire operation.\n",
            "            1- Addition\n",
            "            2- Subtraction\n",
            "            3- Multiplication\n",
            "            4- Division\n",
            "            5- Exit\n",
            "Enter your Choice: 5\n"
          ]
        }
      ]
    }
  ]
}