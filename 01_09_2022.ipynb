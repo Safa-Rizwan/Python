{
  "nbformat": 4,
  "nbformat_minor": 0,
  "metadata": {
    "colab": {
      "provenance": []
    },
    "kernelspec": {
      "name": "python3",
      "display_name": "Python 3"
    },
    "language_info": {
      "name": "python"
    }
  },
  "cells": [
    {
      "cell_type": "markdown",
      "source": [
        "Data types\n",
        "integers\n",
        "float\n",
        "list\n",
        "strings\n",
        "\n",
        "new data type\n",
        "dictionary\n",
        "key:value\n",
        "\n",
        "syntax:\n",
        "dictionaryname(variable)={ key1 : value1, key2 : value2}"
      ],
      "metadata": {
        "id": "XS9x7HzuyQ6W"
      }
    },
    {
      "cell_type": "code",
      "source": [
        "introduction = {\n",
        "    \"name\":\"Safa Rizwan\",\n",
        "    \"age\": 22,\n",
        "    \"favouritecolor\":\"blue\"\n",
        "}\n",
        "print(introduction[1]));\n",
        "#print(introduction)\n",
        "\n",
        "# methods\n",
        "#print(introduction['name'])\n",
        "\n",
        "#print(len(introduction))\n",
        "#introduction.pop(\"name\");\n",
        "\n",
        "#print(introduction)\n",
        "\n",
        "introduction.update({\"name\":\"Aliyaan\"})\n",
        "\n",
        "#print(introduction)\n",
        "\n",
        "introduction[\"favouritecolor\"] = \"pink\";\n",
        "print(introduction)\n",
        "\n",
        "\n",
        "\n",
        "\n"
      ],
      "metadata": {
        "colab": {
          "base_uri": "https://localhost:8080/",
          "height": 130
        },
        "id": "C7TGvzT7zKI6",
        "outputId": "d5e3c562-4a7a-42f6-a883-773564689395"
      },
      "execution_count": 16,
      "outputs": [
        {
          "output_type": "error",
          "ename": "SyntaxError",
          "evalue": "ignored",
          "traceback": [
            "\u001b[0;36m  File \u001b[0;32m\"<ipython-input-16-57ecfbcf2c56>\"\u001b[0;36m, line \u001b[0;32m6\u001b[0m\n\u001b[0;31m    print(introduction[1]));\u001b[0m\n\u001b[0m                          ^\u001b[0m\n\u001b[0;31mSyntaxError\u001b[0m\u001b[0;31m:\u001b[0m invalid syntax\n"
          ]
        }
      ]
    },
    {
      "cell_type": "code",
      "source": [
        "questions={\n",
        "    \"hii\": \"hey\",\n",
        "    \"How are you\" : \"I am fine\",\n",
        "    \"What's your good name\": \"My name is Robot\",\n",
        "    \"How old are you\": \"I am 2 years old\",\n",
        "    \"what is your favourite colours\": \"Blue\"\n",
        "}\n",
        "while True:\n",
        "  userques = input()\n",
        "  if (userques==\"quit\"):\n",
        "    break\n",
        "  elif (userques!=\"quit\"):\n",
        "    for i in range(len(questions)):\n",
        "      if (userques) == question.update(i)\n",
        "        print(questions[userques])\n",
        "        break\n",
        "    else:\n",
        "      print('Enter correct question')\n"
      ],
      "metadata": {
        "colab": {
          "base_uri": "https://localhost:8080/",
          "height": 252
        },
        "id": "JVnxG3EC4gAO",
        "outputId": "91cecfe7-e774-43ca-fac0-951ed91083ef"
      },
      "execution_count": 13,
      "outputs": [
        {
          "name": "stdout",
          "output_type": "stream",
          "text": [
            "HIII\n"
          ]
        },
        {
          "output_type": "error",
          "ename": "KeyError",
          "evalue": "ignored",
          "traceback": [
            "\u001b[0;31m---------------------------------------------------------------------------\u001b[0m",
            "\u001b[0;31mKeyError\u001b[0m                                  Traceback (most recent call last)",
            "\u001b[0;32m<ipython-input-13-1c10a3eb77c6>\u001b[0m in \u001b[0;36m<module>\u001b[0;34m\u001b[0m\n\u001b[1;32m     11\u001b[0m     \u001b[0;32mbreak\u001b[0m\u001b[0;34m\u001b[0m\u001b[0;34m\u001b[0m\u001b[0m\n\u001b[1;32m     12\u001b[0m   \u001b[0;32mif\u001b[0m \u001b[0;34m(\u001b[0m\u001b[0muserques\u001b[0m \u001b[0;34m!=\u001b[0m \u001b[0;34m\"quit\"\u001b[0m\u001b[0;34m)\u001b[0m\u001b[0;34m:\u001b[0m\u001b[0;34m\u001b[0m\u001b[0;34m\u001b[0m\u001b[0m\n\u001b[0;32m---> 13\u001b[0;31m     \u001b[0mprint\u001b[0m\u001b[0;34m(\u001b[0m\u001b[0mquestions\u001b[0m\u001b[0;34m[\u001b[0m\u001b[0muserques\u001b[0m\u001b[0;34m]\u001b[0m\u001b[0;34m)\u001b[0m\u001b[0;34m\u001b[0m\u001b[0;34m\u001b[0m\u001b[0m\n\u001b[0m\u001b[1;32m     14\u001b[0m   \u001b[0;32melse\u001b[0m\u001b[0;34m:\u001b[0m\u001b[0;34m\u001b[0m\u001b[0;34m\u001b[0m\u001b[0m\n\u001b[1;32m     15\u001b[0m     \u001b[0mprint\u001b[0m\u001b[0;34m(\u001b[0m\u001b[0;34m'Enter correct question'\u001b[0m\u001b[0;34m)\u001b[0m\u001b[0;34m\u001b[0m\u001b[0;34m\u001b[0m\u001b[0m\n",
            "\u001b[0;31mKeyError\u001b[0m: 'HIII'"
          ]
        }
      ]
    },
    {
      "cell_type": "code",
      "source": [
        "# functions in python\n",
        "def add():\n",
        "  a=3\n",
        "  b=5\n",
        "  result = a + b\n",
        "  print(result)# 8\n",
        "  return \"Hello World\"\n",
        "  \n",
        "\n",
        "x= 6  \n",
        "store=add() # no return\n",
        "print(store)\n",
        "#mult= x*store\n",
        "#print(mult)  \n",
        "\n"
      ],
      "metadata": {
        "colab": {
          "base_uri": "https://localhost:8080/"
        },
        "id": "PLH2xcG89QzP",
        "outputId": "cf7077b4-6731-4fc0-fcac-8525323e7a9f"
      },
      "execution_count": 30,
      "outputs": [
        {
          "output_type": "stream",
          "name": "stdout",
          "text": [
            "8\n",
            "Hello World\n"
          ]
        }
      ]
    },
    {
      "cell_type": "markdown",
      "source": [
        "Two main parts of functions:\n",
        "1-function definition\n",
        "2- Function call\n",
        "Function defintion:\n",
        "syntax:\n",
        "def your_function_name():\n",
        "    #code\n",
        "\n",
        "Function Calling:\n",
        "syntax:\n",
        "your_function_name()  "
      ],
      "metadata": {
        "id": "i3sPJ1A3_H5j"
      }
    }
  ]
}